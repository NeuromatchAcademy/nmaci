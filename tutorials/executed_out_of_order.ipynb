{
 "cells": [
  {
   "cell_type": "code",
   "execution_count": 2,
   "id": "b4bf7d0a-c937-47ef-b18b-9924ac9154d4",
   "metadata": {},
   "outputs": [],
   "source": [
    "a = 1"
   ]
  },
  {
   "cell_type": "code",
   "execution_count": 1,
   "id": "6cd5738e-6703-4cec-a1e4-887778336e08",
   "metadata": {},
   "outputs": [],
   "source": [
    "b = 2"
   ]
  }
 ],
 "metadata": {
  "kernelspec": {
   "display_name": "nma (py37)",
   "language": "python",
   "name": "nma"
  },
  "language_info": {
   "codemirror_mode": {
    "name": "ipython",
    "version": 3
   },
   "file_extension": ".py",
   "mimetype": "text/x-python",
   "name": "python",
   "nbconvert_exporter": "python",
   "pygments_lexer": "ipython3",
   "version": "3.7.6"
  }
 },
 "nbformat": 4,
 "nbformat_minor": 5
}
