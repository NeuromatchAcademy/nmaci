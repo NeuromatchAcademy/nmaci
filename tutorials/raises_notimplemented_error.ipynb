{
 "cells": [
  {
   "cell_type": "code",
   "execution_count": null,
   "id": "841ef09b-6bbc-4884-82e4-2aa8aefd6357",
   "metadata": {
    "execution": {
     "iopub.execute_input": "2021-05-31T20:37:12.482507Z",
     "iopub.status.busy": "2021-05-31T20:37:12.481696Z",
     "iopub.status.idle": "2021-05-31T20:37:12.564682Z",
     "shell.execute_reply": "2021-05-31T20:37:12.563694Z"
    }
   },
   "outputs": [],
   "source": [
    "def exercise():\n",
    "    raise NotImplementedError\n",
    "    a = ...\n",
    "    return a ** 2\n",
    "exercise()"
   ]
  }
 ],
 "metadata": {
  "colab": {
   "collapsed_sections": [],
   "include_colab_link": true,
   "name": "raises_notimplemented_error",
   "toc_visible": true
  },
  "kernel": {
   "display_name": "Python 3",
   "language": "python",
   "name": "python3"
  },
  "kernelspec": {
   "display_name": "nma (py37)",
   "language": "python",
   "name": "nma"
  },
  "language_info": {
   "codemirror_mode": {
    "name": "ipython",
    "version": 3
   },
   "file_extension": ".py",
   "mimetype": "text/x-python",
   "name": "python",
   "nbconvert_exporter": "python",
   "pygments_lexer": "ipython3",
   "version": "3.7.6"
  }
 },
 "nbformat": 4,
 "nbformat_minor": 5
}
